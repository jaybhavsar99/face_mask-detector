{
 "cells": [
  {
   "cell_type": "code",
   "execution_count": null,
   "metadata": {},
   "outputs": [],
   "source": []
  },
  {
   "cell_type": "code",
   "execution_count": null,
   "metadata": {},
   "outputs": [],
   "source": []
  },
  {
   "cell_type": "code",
   "execution_count": 32,
   "metadata": {
    "scrolled": true
   },
   "outputs": [
    {
     "name": "stdout",
     "output_type": "stream",
     "text": [
      "{'with mask': 0, 'without mask': 1}\n",
      "['with mask', 'without mask']\n",
      "[0, 1]\n"
     ]
    }
   ],
   "source": [
    "import cv2,os\n",
    "\n",
    "data_path=r'C:\\Users\\Acer\\Desktop\\face mask detector\\face-mask-detection-keras-master\\dataset\\train\\dataset'\n",
    "categories=os.listdir(data_path)\n",
    "labels=[i for i in range(len(categories))]\n",
    "\n",
    "label_dict=dict(zip(categories,labels)) #empty dictionary\n",
    "\n",
    "print(label_dict)\n",
    "print(categories)\n",
    "print(labels)"
   ]
  },
  {
   "cell_type": "code",
   "execution_count": 33,
   "metadata": {},
   "outputs": [],
   "source": [
    "img_size=200\n",
    "data=[]\n",
    "target=[]\n",
    "\n",
    "\n",
    "for category in categories:\n",
    "    folder_path=os.path.join(data_path,category)\n",
    "    img_names=os.listdir(folder_path)\n",
    "        \n",
    "    for img_name in img_names:\n",
    "        img_path=os.path.join(folder_path,img_name)\n",
    "        img=cv2.imread(img_path)\n",
    "\n",
    "        try:\n",
    "            gray=cv2.cvtColor(img,cv2.COLOR_BGR2GRAY)           \n",
    "            #Coverting the image into gray scale\n",
    "            resized=cv2.resize(gray,(img_size,img_size))\n",
    "            #resizing the gray scale into 50x50, since we need a fixed common size for all the images in the dataset\n",
    "            data.append(resized)\n",
    "            target.append(label_dict[category])\n",
    "            #appending the image and the label(categorized) into the list (dataset)\n",
    "\n",
    "        except Exception as e:\n",
    "            print('Exception:',e)\n",
    "            #if any exception rasied, the exception will be printed here. And pass to the next image"
   ]
  },
  {
   "cell_type": "code",
   "execution_count": 35,
   "metadata": {},
   "outputs": [],
   "source": [
    "import numpy as np\n",
    "\n",
    "data=np.array(data)\n",
    "data=data/255\n",
    "data=np.reshape(data,(data.shape[0],img_size,img_size,1))\n",
    "target=np.array(target)\n",
    "\n",
    "from keras.utils import np_utils\n",
    "\n",
    "new_target=np_utils.to_categorical(target)\n",
    "\n",
    "from sklearn.utils import shuffle\n",
    "data,Label = shuffle(data,new_target, random_state=2)\n",
    "train_data = [data,Label]\n"
   ]
  },
  {
   "cell_type": "code",
   "execution_count": 36,
   "metadata": {},
   "outputs": [
    {
     "name": "stdout",
     "output_type": "stream",
     "text": [
      "(1376, 2)\n",
      "(200, 200, 1)\n"
     ]
    }
   ],
   "source": [
    "\n",
    "print(train_data[1].shape)\n",
    "print(data.shape[1:])\n"
   ]
  },
  {
   "cell_type": "code",
   "execution_count": 37,
   "metadata": {},
   "outputs": [],
   "source": [
    "from keras.models import Sequential\n",
    "from keras.layers import Dense,Activation,Flatten,Dropout\n",
    "from keras.layers import Conv2D,MaxPooling2D\n",
    "from keras.callbacks import ModelCheckpoint\n",
    "import tensorflow as tf\n",
    "\n",
    "model = tf.keras.models.Sequential([\n",
    "    tf.keras.layers.Flatten(input_shape=(200,200,1)),\n",
    "    tf.keras.layers.Dense(512, activation='relu'),\n",
    "    tf.keras.layers.Dense(512, activation='relu'),\n",
    "    tf.keras.layers.Dense(128, activation='relu'),\n",
    "    tf.keras.layers.Dense(50,activation='relu'),\n",
    "    tf.keras.layers.Dense(2, activation='softmax')\n",
    "])\n",
    "\n",
    "model.compile(loss='categorical_crossentropy',optimizer='adam',metrics=['accuracy'])"
   ]
  },
  {
   "cell_type": "code",
   "execution_count": 38,
   "metadata": {},
   "outputs": [
    {
     "name": "stdout",
     "output_type": "stream",
     "text": [
      "1376\n"
     ]
    }
   ],
   "source": [
    "print(len(target))"
   ]
  },
  {
   "cell_type": "code",
   "execution_count": 39,
   "metadata": {},
   "outputs": [
    {
     "name": "stdout",
     "output_type": "stream",
     "text": [
      "Train on 1376 samples\n",
      "Epoch 1/80\n",
      "1376/1376 [==============================] - 8s 6ms/sample - loss: 5.0027 - acc: 0.5065\n",
      "Epoch 2/80\n",
      "1376/1376 [==============================] - 6s 4ms/sample - loss: 0.6352 - acc: 0.6962\n",
      "Epoch 3/80\n",
      "1376/1376 [==============================] - 6s 4ms/sample - loss: 0.7485 - acc: 0.6751\n",
      "Epoch 4/80\n",
      "1376/1376 [==============================] - 6s 4ms/sample - loss: 0.4539 - acc: 0.7754\n",
      "Epoch 5/80\n",
      "1376/1376 [==============================] - 6s 4ms/sample - loss: 0.4500 - acc: 0.7849\n",
      "Epoch 6/80\n",
      "1376/1376 [==============================] - 6s 4ms/sample - loss: 0.4360 - acc: 0.8031\n",
      "Epoch 7/80\n",
      "1376/1376 [==============================] - 7s 5ms/sample - loss: 0.3822 - acc: 0.8169\n",
      "Epoch 8/80\n",
      "1376/1376 [==============================] - 6s 4ms/sample - loss: 0.3307 - acc: 0.8503\n",
      "Epoch 9/80\n",
      "1376/1376 [==============================] - 6s 4ms/sample - loss: 0.2833 - acc: 0.8750\n",
      "Epoch 10/80\n",
      "1376/1376 [==============================] - 5s 4ms/sample - loss: 0.2909 - acc: 0.8815\n",
      "Epoch 11/80\n",
      "1376/1376 [==============================] - 6s 4ms/sample - loss: 0.2576 - acc: 0.8888\n",
      "Epoch 12/80\n",
      "1376/1376 [==============================] - 6s 4ms/sample - loss: 0.3644 - acc: 0.8358\n",
      "Epoch 13/80\n",
      "1376/1376 [==============================] - 6s 4ms/sample - loss: 0.3088 - acc: 0.8626\n",
      "Epoch 14/80\n",
      "1376/1376 [==============================] - 6s 4ms/sample - loss: 0.2296 - acc: 0.9041\n",
      "Epoch 15/80\n",
      "1376/1376 [==============================] - 6s 4ms/sample - loss: 0.2926 - acc: 0.8677\n",
      "Epoch 16/80\n",
      "1376/1376 [==============================] - 6s 4ms/sample - loss: 0.2606 - acc: 0.8808\n",
      "Epoch 17/80\n",
      "1376/1376 [==============================] - 6s 4ms/sample - loss: 0.2914 - acc: 0.8794\n",
      "Epoch 18/80\n",
      "1376/1376 [==============================] - 6s 4ms/sample - loss: 0.3061 - acc: 0.8670\n",
      "Epoch 19/80\n",
      "1376/1376 [==============================] - 6s 4ms/sample - loss: 0.2116 - acc: 0.9121\n",
      "Epoch 20/80\n",
      "1376/1376 [==============================] - 6s 4ms/sample - loss: 0.1688 - acc: 0.9368\n",
      "Epoch 21/80\n",
      "1376/1376 [==============================] - 6s 4ms/sample - loss: 0.1460 - acc: 0.9382\n",
      "Epoch 22/80\n",
      "1376/1376 [==============================] - 8s 6ms/sample - loss: 0.1662 - acc: 0.9281\n",
      "Epoch 23/80\n",
      "1376/1376 [==============================] - 6s 5ms/sample - loss: 0.2255 - acc: 0.8983\n",
      "Epoch 24/80\n",
      "1376/1376 [==============================] - 6s 4ms/sample - loss: 0.1842 - acc: 0.9215\n",
      "Epoch 25/80\n",
      "1376/1376 [==============================] - 6s 4ms/sample - loss: 0.1466 - acc: 0.9440\n",
      "Epoch 26/80\n",
      "1376/1376 [==============================] - 5s 4ms/sample - loss: 0.1378 - acc: 0.9484\n",
      "Epoch 27/80\n",
      "1376/1376 [==============================] - 6s 4ms/sample - loss: 0.1848 - acc: 0.9230\n",
      "Epoch 28/80\n",
      "1376/1376 [==============================] - 6s 4ms/sample - loss: 0.1206 - acc: 0.9513\n",
      "Epoch 29/80\n",
      "1376/1376 [==============================] - 6s 5ms/sample - loss: 0.3555 - acc: 0.8772\n",
      "Epoch 30/80\n",
      "1376/1376 [==============================] - 6s 4ms/sample - loss: 0.2437 - acc: 0.8910\n",
      "Epoch 31/80\n",
      "1376/1376 [==============================] - 6s 4ms/sample - loss: 0.1202 - acc: 0.9528\n",
      "Epoch 32/80\n",
      "1376/1376 [==============================] - 6s 4ms/sample - loss: 0.1181 - acc: 0.9564\n",
      "Epoch 33/80\n",
      "1376/1376 [==============================] - 6s 4ms/sample - loss: 0.1046 - acc: 0.9549\n",
      "Epoch 34/80\n",
      "1376/1376 [==============================] - 6s 4ms/sample - loss: 0.0876 - acc: 0.9629\n",
      "Epoch 35/80\n",
      "1376/1376 [==============================] - 6s 4ms/sample - loss: 0.0739 - acc: 0.9695\n",
      "Epoch 36/80\n",
      "1376/1376 [==============================] - 6s 4ms/sample - loss: 0.1221 - acc: 0.9499\n",
      "Epoch 37/80\n",
      "1376/1376 [==============================] - 6s 4ms/sample - loss: 0.1230 - acc: 0.9520\n",
      "Epoch 38/80\n",
      "1376/1376 [==============================] - 6s 4ms/sample - loss: 0.0883 - acc: 0.9644\n",
      "Epoch 39/80\n",
      "1376/1376 [==============================] - 6s 4ms/sample - loss: 0.1319 - acc: 0.9448\n",
      "Epoch 40/80\n",
      "1376/1376 [==============================] - 6s 5ms/sample - loss: 0.1226 - acc: 0.9491\n",
      "Epoch 41/80\n",
      "1376/1376 [==============================] - 6s 4ms/sample - loss: 0.0868 - acc: 0.9622\n",
      "Epoch 42/80\n",
      "1376/1376 [==============================] - 6s 4ms/sample - loss: 0.1013 - acc: 0.9557\n",
      "Epoch 43/80\n",
      "1376/1376 [==============================] - 6s 4ms/sample - loss: 0.1461 - acc: 0.9390\n",
      "Epoch 44/80\n",
      "1376/1376 [==============================] - 6s 4ms/sample - loss: 0.0918 - acc: 0.9593\n",
      "Epoch 45/80\n",
      "1376/1376 [==============================] - 6s 4ms/sample - loss: 0.0848 - acc: 0.9658\n",
      "Epoch 46/80\n",
      "1376/1376 [==============================] - 6s 4ms/sample - loss: 0.0389 - acc: 0.9862\n",
      "Epoch 47/80\n",
      "1376/1376 [==============================] - 6s 4ms/sample - loss: 0.0568 - acc: 0.9789\n",
      "Epoch 48/80\n",
      "1376/1376 [==============================] - 6s 4ms/sample - loss: 0.0554 - acc: 0.9775\n",
      "Epoch 49/80\n",
      "1376/1376 [==============================] - 6s 4ms/sample - loss: 0.1009 - acc: 0.9622\n",
      "Epoch 50/80\n",
      "1376/1376 [==============================] - 6s 4ms/sample - loss: 0.2789 - acc: 0.9012\n",
      "Epoch 51/80\n",
      "1376/1376 [==============================] - 6s 4ms/sample - loss: 0.1381 - acc: 0.9353\n",
      "Epoch 52/80\n",
      "1376/1376 [==============================] - 6s 4ms/sample - loss: 0.0554 - acc: 0.9833\n",
      "Epoch 53/80\n",
      "1376/1376 [==============================] - 6s 4ms/sample - loss: 0.0508 - acc: 0.9826\n",
      "Epoch 54/80\n",
      "1376/1376 [==============================] - 6s 4ms/sample - loss: 0.0476 - acc: 0.9826\n",
      "Epoch 55/80\n",
      "1376/1376 [==============================] - 6s 4ms/sample - loss: 0.0668 - acc: 0.9746\n",
      "Epoch 56/80\n",
      "1376/1376 [==============================] - 6s 4ms/sample - loss: 0.0680 - acc: 0.9775\n",
      "Epoch 57/80\n",
      "1376/1376 [==============================] - 6s 4ms/sample - loss: 0.0480 - acc: 0.9833\n",
      "Epoch 58/80\n",
      "1376/1376 [==============================] - 6s 4ms/sample - loss: 0.1218 - acc: 0.9564\n",
      "Epoch 59/80\n",
      "1376/1376 [==============================] - 6s 4ms/sample - loss: 0.1103 - acc: 0.9600\n",
      "Epoch 60/80\n",
      "1376/1376 [==============================] - 6s 4ms/sample - loss: 0.0380 - acc: 0.9855\n",
      "Epoch 61/80\n",
      "1376/1376 [==============================] - 6s 4ms/sample - loss: 0.0659 - acc: 0.9760\n",
      "Epoch 62/80\n",
      "1376/1376 [==============================] - 6s 4ms/sample - loss: 0.0591 - acc: 0.9767\n",
      "Epoch 63/80\n",
      "1376/1376 [==============================] - 6s 4ms/sample - loss: 0.1411 - acc: 0.9390\n",
      "Epoch 64/80\n",
      "1376/1376 [==============================] - 6s 4ms/sample - loss: 0.0755 - acc: 0.9717\n",
      "Epoch 65/80\n",
      "1376/1376 [==============================] - 6s 4ms/sample - loss: 0.0553 - acc: 0.9775\n",
      "Epoch 66/80\n",
      "1376/1376 [==============================] - 6s 4ms/sample - loss: 0.0635 - acc: 0.9811\n",
      "Epoch 67/80\n",
      "1376/1376 [==============================] - 6s 4ms/sample - loss: 0.0694 - acc: 0.9731\n",
      "Epoch 68/80\n",
      "1376/1376 [==============================] - 6s 4ms/sample - loss: 0.0367 - acc: 0.9884\n",
      "Epoch 69/80\n",
      "1376/1376 [==============================] - 6s 4ms/sample - loss: 0.0641 - acc: 0.9782\n",
      "Epoch 70/80\n",
      "1376/1376 [==============================] - 6s 4ms/sample - loss: 0.0779 - acc: 0.9695\n",
      "Epoch 71/80\n",
      "1376/1376 [==============================] - 6s 4ms/sample - loss: 0.0881 - acc: 0.9673\n",
      "Epoch 72/80\n",
      "1376/1376 [==============================] - 6s 4ms/sample - loss: 0.0387 - acc: 0.9847\n",
      "Epoch 73/80\n",
      "1376/1376 [==============================] - 6s 4ms/sample - loss: 0.0310 - acc: 0.9869\n",
      "Epoch 74/80\n",
      "1376/1376 [==============================] - 6s 4ms/sample - loss: 0.0240 - acc: 0.9935\n",
      "Epoch 75/80\n",
      "1376/1376 [==============================] - 6s 4ms/sample - loss: 0.0560 - acc: 0.9804\n",
      "Epoch 76/80\n",
      "1376/1376 [==============================] - 6s 4ms/sample - loss: 0.0635 - acc: 0.9767\n",
      "Epoch 77/80\n",
      "1376/1376 [==============================] - 6s 4ms/sample - loss: 0.0596 - acc: 0.9775\n",
      "Epoch 78/80\n",
      "1376/1376 [==============================] - 6s 4ms/sample - loss: 0.0405 - acc: 0.9869\n",
      "Epoch 79/80\n",
      "1376/1376 [==============================] - 6s 4ms/sample - loss: 0.0256 - acc: 0.9920\n",
      "Epoch 80/80\n",
      "1376/1376 [==============================] - 6s 4ms/sample - loss: 0.0339 - acc: 0.9869\n"
     ]
    }
   ],
   "source": [
    "history=model.fit(train_data[0],train_data[1],epochs=80)"
   ]
  },
  {
   "cell_type": "code",
   "execution_count": 40,
   "metadata": {},
   "outputs": [
    {
     "name": "stdout",
     "output_type": "stream",
     "text": [
      "{'Mask': 0, 'No_mask': 1}\n",
      "['Mask', 'No_mask']\n",
      "[0, 1]\n"
     ]
    }
   ],
   "source": [
    "import cv2,os\n",
    "\n",
    "data_path=r'C:\\Users\\Acer\\Desktop\\ml coding workshop\\Mask_Datasets\\train'\n",
    "categories=os.listdir(data_path)\n",
    "labels=[i for i in range(len(categories))]\n",
    "\n",
    "label_dict=dict(zip(categories,labels)) #empty dictionary\n",
    "\n",
    "print(label_dict)\n",
    "print(categories)\n",
    "print(labels)"
   ]
  },
  {
   "cell_type": "code",
   "execution_count": 41,
   "metadata": {},
   "outputs": [
    {
     "name": "stdout",
     "output_type": "stream",
     "text": [
      "Exception: OpenCV(4.2.0) C:\\projects\\opencv-python\\opencv\\modules\\imgproc\\src\\color.cpp:182: error: (-215:Assertion failed) !_src.empty() in function 'cv::cvtColor'\n",
      "\n"
     ]
    }
   ],
   "source": [
    "img_size=200\n",
    "data1=[]\n",
    "target1=[]\n",
    "\n",
    "\n",
    "for category in categories:\n",
    "    folder_path=os.path.join(data_path,category)\n",
    "    img_names=os.listdir(folder_path)\n",
    "        \n",
    "    for img_name in img_names:\n",
    "        img_path=os.path.join(folder_path,img_name)\n",
    "        img=cv2.imread(img_path)\n",
    "\n",
    "        try:\n",
    "            gray=cv2.cvtColor(img,cv2.COLOR_BGR2GRAY)           \n",
    "            #Coverting the image into gray scale\n",
    "            resized=cv2.resize(gray,(img_size,img_size))\n",
    "            #resizing the gray scale into 50x50, since we need a fixed common size for all the images in the dataset\n",
    "            data1.append(resized)\n",
    "            target1.append(label_dict[category])\n",
    "            #appending the image and the label(categorized) into the list (dataset)\n",
    "\n",
    "        except Exception as e:\n",
    "            print('Exception:',e)\n",
    "            #if any exception rasied, the exception will be printed here. And pass to the next image"
   ]
  },
  {
   "cell_type": "code",
   "execution_count": 42,
   "metadata": {},
   "outputs": [],
   "source": [
    "data1=np.array(data1)/255.0\n",
    "data1=np.reshape(data1,(data1.shape[0],img_size,img_size,1))\n",
    "target1=np.array(target1)\n",
    "\n",
    "from keras.utils import np_utils\n",
    "\n",
    "new_target1=np_utils.to_categorical(target1)"
   ]
  },
  {
   "cell_type": "code",
   "execution_count": 43,
   "metadata": {},
   "outputs": [
    {
     "name": "stdout",
     "output_type": "stream",
     "text": [
      "749/749 [==============================] - 2s 3ms/sample - loss: 1.2995 - acc: 0.7677\n"
     ]
    },
    {
     "data": {
      "text/plain": [
       "[1.2994976937372948, 0.76769024]"
      ]
     },
     "execution_count": 43,
     "metadata": {},
     "output_type": "execute_result"
    }
   ],
   "source": [
    "model.evaluate(data1,new_target1)"
   ]
  },
  {
   "cell_type": "code",
   "execution_count": 113,
   "metadata": {},
   "outputs": [],
   "source": [
    "\n",
    "face_clsfr=cv2.CascadeClassifier('haarcascade_frontalface_default.xml')\n",
    "\n",
    "source=cv2.VideoCapture(0)\n",
    "\n",
    "labels_dict={0:'MASK',1:'NO MASK'}\n",
    "color_dict={0:(0,255,0),1:(0,0,255)}"
   ]
  },
  {
   "cell_type": "code",
   "execution_count": 114,
   "metadata": {},
   "outputs": [],
   "source": [
    "while(True):\n",
    "\n",
    "    ret,img=source.read()\n",
    "    gray=cv2.cvtColor(img,cv2.COLOR_BGR2GRAY)\n",
    "    faces=face_clsfr.detectMultiScale(gray,1.3,5)  \n",
    "\n",
    "    for (x,y,w,h) in faces:\n",
    "    \n",
    "        face_img=gray[y:y+w,x:x+w]\n",
    "        resized=cv2.resize(face_img,(200,200))\n",
    "        normalized=resized/255.0\n",
    "        reshaped=np.reshape(normalized,(1,200,200,1))\n",
    "        result=model.predict(reshaped)\n",
    "\n",
    "        label=np.argmax(result,axis=1)[0]\n",
    "      \n",
    "        cv2.rectangle(img,(x,y),(x+w,y+h),color_dict[label],2)\n",
    "        cv2.rectangle(img,(x,y-40),(x+w,y),color_dict[label],-1)\n",
    "        cv2.putText(img, labels_dict[label], (x, y-10),cv2.FONT_HERSHEY_SIMPLEX,0.8,(255,255,255),2)\n",
    "        \n",
    "        \n",
    "    cv2.imshow('LIVE',img)\n",
    "    key=cv2.waitKey(1)\n",
    "    \n",
    "    if(key==27):\n",
    "        break\n",
    "        \n",
    "cv2.destroyAllWindows()\n",
    "source.release()"
   ]
  },
  {
   "cell_type": "code",
   "execution_count": 44,
   "metadata": {},
   "outputs": [
    {
     "name": "stdout",
     "output_type": "stream",
     "text": [
      "['0-with-mask.jpg', '0.jpg', '1-with-mask.jpg', '1.jpg', '14-with-mask.jpg', '14.jpg', '15730.jpg', '17.jpg', '18.jpg', '2-with-mask.jpg', '2.jpg', '3-with-mask.jpg', '3.jpg', '4.jpg', '7-with-mask.jpg', 'WIN_20200517_22_34_47_Pro.jpg', 'WIN_20200520_17_15_08_Pro.jpg']\n"
     ]
    }
   ],
   "source": [
    "from PIL import Image\n",
    "\n",
    "path3=r\"C:\\Users\\Acer\\Desktop\\ml coding workshop\\testing\"\n",
    "path4=r\"C:\\Users\\Acer\\Desktop\\ml coding workshop\\testing1\"\n",
    "list1 = os.listdir(path3)\n",
    "print(list1)\n",
    "\n",
    "for file in list1:\n",
    "    im = Image.open(path3 + '\\\\' + file)  \n",
    "    img = im.resize((200,200))\n",
    "    gray = img.convert('L')\n",
    "                #need to do some more processing here          \n",
    "    gray.save(path4 +'\\\\' +  file, \"JPEG\")\n"
   ]
  },
  {
   "cell_type": "code",
   "execution_count": 45,
   "metadata": {},
   "outputs": [
    {
     "name": "stdout",
     "output_type": "stream",
     "text": [
      "[1. 0.]\n",
      "[0. 1.]\n",
      "[1. 0.]\n",
      "[0. 1.]\n",
      "[1. 0.]\n",
      "[0. 1.]\n",
      "[1. 0.]\n",
      "[0. 1.]\n",
      "[0. 1.]\n",
      "[1. 0.]\n",
      "[0. 1.]\n",
      "[1. 0.]\n",
      "[0. 1.]\n",
      "[0. 1.]\n",
      "[1. 0.]\n",
      "[0. 1.]\n",
      "[1. 0.]\n"
     ]
    },
    {
     "data": {
      "image/png": "[encoded data removed]",
      "text/plain": [
       "<Figure size 432x288 with 1 Axes>"
      ]
     },
     "metadata": {
      "needs_background": "light"
     },
     "output_type": "display_data"
    }
   ],
   "source": [
    "import matplotlib.pyplot as plt\n",
    "iml = os.listdir(path4)\n",
    "for im in iml:\n",
    "    im1 = np.array(Image.open(path4 + '\\\\'+ im)) \n",
    "    img=im1.reshape(200,200)\n",
    "    plt.imshow(img)\n",
    "    plt.imshow(img,cmap='gray')\n",
    "    X_train1 = im1.reshape(1,200, 200,1)\n",
    "    X_train1 / 255\n",
    "    classes=model.predict(X_train1)\n",
    "    print(classes[0])\n",
    "    \n"
   ]
  },
  {
   "cell_type": "code",
   "execution_count": 48,
   "metadata": {},
   "outputs": [
    {
     "data": {
      "text/plain": [
       "array([[[[1.        ],\n",
       "         [1.        ],\n",
       "         [1.        ],\n",
       "         ...,\n",
       "         [0.99607843],\n",
       "         [0.93333333],\n",
       "         [1.        ]],\n",
       "\n",
       "        [[1.        ],\n",
       "         [1.        ],\n",
       "         [1.        ],\n",
       "         ...,\n",
       "         [1.        ],\n",
       "         [0.99215686],\n",
       "         [1.        ]],\n",
       "\n",
       "        [[1.        ],\n",
       "         [1.        ],\n",
       "         [1.        ],\n",
       "         ...,\n",
       "         [0.97254902],\n",
       "         [0.98823529],\n",
       "         [0.9372549 ]],\n",
       "\n",
       "        ...,\n",
       "\n",
       "        [[1.        ],\n",
       "         [1.        ],\n",
       "         [1.        ],\n",
       "         ...,\n",
       "         [1.        ],\n",
       "         [1.        ],\n",
       "         [1.        ]],\n",
       "\n",
       "        [[1.        ],\n",
       "         [1.        ],\n",
       "         [1.        ],\n",
       "         ...,\n",
       "         [1.        ],\n",
       "         [1.        ],\n",
       "         [1.        ]],\n",
       "\n",
       "        [[1.        ],\n",
       "         [1.        ],\n",
       "         [1.        ],\n",
       "         ...,\n",
       "         [1.        ],\n",
       "         [1.        ],\n",
       "         [1.        ]]]])"
      ]
     },
     "execution_count": 48,
     "metadata": {},
     "output_type": "execute_result"
    },
    {
     "data": {
      "image/png": "[encoded data removed]",
      "text/plain": [
       "<Figure size 432x288 with 1 Axes>"
      ]
     },
     "metadata": {
      "needs_background": "light"
     },
     "output_type": "display_data"
    }
   ],
   "source": [
    "    im1 = np.array(Image.open(path4 + '\\\\'+ iml[10])) \n",
    "    img=im1.reshape(200,200)\n",
    "    plt.imshow(img)\n",
    "    plt.imshow(img,cmap='gray')\n",
    "    X_train1 = im1.reshape(1,200, 200,1)\n",
    "    X_train1 / 255"
   ]
  },
  {
   "cell_type": "code",
   "execution_count": 49,
   "metadata": {},
   "outputs": [
    {
     "name": "stdout",
     "output_type": "stream",
     "text": [
      "[0. 1.]\n"
     ]
    }
   ],
   "source": [
    "classes=model.predict(X_train1)\n",
    "print(classes[0])\n"
   ]
  },
  {
   "cell_type": "code",
   "execution_count": null,
   "metadata": {},
   "outputs": [],
   "source": []
  }
 ],
 "metadata": {
  "kernelspec": {
   "display_name": "Python 3",
   "language": "python",
   "name": "python3"
  },
  "language_info": {
   "codemirror_mode": {
    "name": "ipython",
    "version": 3
   },
   "file_extension": ".py",
   "mimetype": "text/x-python",
   "name": "python",
   "nbconvert_exporter": "python",
   "pygments_lexer": "ipython3",
   "version": "3.7.4"
  }
 },
 "nbformat": 4,
 "nbformat_minor": 2
}
