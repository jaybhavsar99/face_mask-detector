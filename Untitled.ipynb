{
 "cells": [
  {
   "cell_type": "markdown",
   "metadata": {},
   "source": [
    "# Mask detection \n",
    "   \n",
    "   "
   ]
  },
  {
   "cell_type": "markdown",
   "metadata": {},
   "source": [
    "flow of coding in machine learning\n",
    " "
   ]
  },
  {
   "cell_type": "markdown",
   "metadata": {},
   "source": [
    "1) data preprocessing"
   ]
  },
  {
   "cell_type": "markdown",
   "metadata": {},
   "source": [
    "\n",
    " 2) model designing and implementation\n",
    " \n",
    " "
   ]
  },
  {
   "cell_type": "markdown",
   "metadata": {},
   "source": [
    "\n",
    " 3) model training \n",
    " "
   ]
  },
  {
   "cell_type": "markdown",
   "metadata": {},
   "source": [
    "\n",
    " 4) model testing"
   ]
  },
  {
   "cell_type": "markdown",
   "metadata": {},
   "source": [
    "# 1) Data preprocessing \n"
   ]
  },
  {
   "cell_type": "markdown",
   "metadata": {},
   "source": [
    "  1) create data set contain training images and test images\n",
    " "
   ]
  },
  {
   "cell_type": "markdown",
   "metadata": {},
   "source": [
    "  2) Load each image and covert the sizes to a fixed size\n",
    "  "
   ]
  },
  {
   "cell_type": "markdown",
   "metadata": {},
   "source": [
    "3) covert colour image to gray scale image(optional)\n",
    "  "
   ]
  },
  {
   "cell_type": "markdown",
   "metadata": {},
   "source": [
    "\n",
    "  4) create a numpy array of each image "
   ]
  },
  {
   "cell_type": "code",
   "execution_count": 3,
   "metadata": {},
   "outputs": [],
   "source": [
    "import numpy as np \n",
    "import matplotlib.pyplot as plt\n",
    "import tensorflow as tf\n",
    "import cv2 \n",
    "import os \n",
    "\n"
   ]
  },
  {
   "cell_type": "markdown",
   "metadata": {},
   "source": [
    "1)in the above section numpy library is used for creating numpy array of image provided as input \n"
   ]
  },
  {
   "cell_type": "markdown",
   "metadata": {},
   "source": [
    "2) maltplotlib.pyplot is used for data visualization \n"
   ]
  },
  {
   "cell_type": "markdown",
   "metadata": {},
   "source": [
    "3) tensorflow is used as API for are model geeration \n"
   ]
  },
  {
   "cell_type": "markdown",
   "metadata": {},
   "source": [
    "4) cv2 is used to import open cv library , we are using cv2 not cv because open cv is skripted in c++ but we are using it in python so we are using opencv python extension cv2\n"
   ]
  },
  {
   "cell_type": "markdown",
   "metadata": {},
   "source": [
    "5) os library : for are project we will be using data set which is saved on our computer so we need some library to acces it from are coding session so as a result os library is used\n"
   ]
  },
  {
   "cell_type": "code",
   "execution_count": 5,
   "metadata": {},
   "outputs": [
    {
     "name": "stdout",
     "output_type": "stream",
     "text": [
      "{'with mask': 0, 'without mask': 1}\n"
     ]
    }
   ],
   "source": [
    "data_path=r\"C:\\Users\\Acer\\Desktop\\face mask detector\\face-mask-detection-keras-master\\dataset\\train\\dataset\"\n",
    "categories=os.listdir(data_path)\n",
    "labels=[i for i in range(len(categories))]\n",
    "label_dict=dict(zip(categories,labels)) #empty dictionary\n",
    "print(label_dict)\n",
    "\n",
    "\n",
    "        \n",
    "    "
   ]
  },
  {
   "cell_type": "markdown",
   "metadata": {},
   "source": [
    "in the above section we define data_pata which contains the location path of are data set u should chage the according to your location \n",
    "remember after downloading data set only pass the file extension till the folder which contain mask and un mask images folder \n",
    "as mask and unmask are the cotegories on which we need to work futher \n",
    "categories=os.listdir(data_path)- by using this os.listdir will print names of the folder in data_pata in are case we have 2 mask and un mask \n",
    "os.listdir _ is used to list no of folder in specified data_pata\n",
    "labels=[i for i in range(len(categories))]-now are we have 2 categories we need to lable them so we will lable 0 for mask and 1 for unmask\n",
    "label_dict=dict(zip(categories,labels)) _- this line of code will label both the categories as 0,1\n",
    "\n",
    "\n"
   ]
  },
  {
   "cell_type": "code",
   "execution_count": 6,
   "metadata": {},
   "outputs": [
    {
     "name": "stdout",
     "output_type": "stream",
     "text": [
      "['0.jpg', '1.jpg', '10.jpg', '100.jpg', '101.jpg', '102.jpg', '104.jpg', '105.jpg', '106.jpg', '107.jpg', '108.jpg', '109.jpg', '11.jpg', '110.jpg', '111.jpg', '112.jpg', '114.jpg', '115.jpg', '116.jpg', '117.jpg', '118.jpg', '119.jpg', '12.jpg', '120.jpg', '122.jpg', '123.jpg', '124.jpg', '125.jpg', '127.jpg', '128.jpg', '129.jpg', '13.jpg', '130.jpg', '131.jpg', '132.jpg', '133.jpg', '134.jpg', '135.jpg', '136.jpg', '137.jpg', '138.jpg', '139.jpg', '14.jpg', '140.jpg', '141.jpg', '142.jpg', '143.jpg', '145.jpg', '146.jpg', '148.jpg', '149.jpg', '15.jpg', '151.jpg', '152.jpg', '153.jpg', '154.jpg', '155.jpg', '156.jpg', '157.jpg', '158.jpg', '159.jpg', '16.jpg', '160.jpg', '161.jpg', '162.jpg', '163.jpg', '164.jpg', '166.jpg', '168.jpg', '169.jpg', '17.jpg', '170.jpg', '171.jpg', '172.jpg', '173.jpg', '174.jpg', '175.jpg', '176.jpg', '177.jpg', '178.jpg', '179.jpg', '18.jpg', '180.jpg', '181.jpg', '183.jpg', '184.jpg', '185.jpg', '186.jpg', '187.jpg', '188.jpg', '19.jpg', '191.jpg', '192.jpg', '193.jpg', '194.jpg', '195.jpg', '196.jpg', '197.jpg', '198.jpg', '2.jpg', '20.jpg', '201.jpg', '203.jpg', '204.jpg', '206.jpg', '207.jpg', '208.jpg', '210.jpg', '211.jpg', '212.jpg', '213.jpg', '214.jpg', '215.jpg', '216.jpg', '217.jpg', '218.jpg', '22.jpg', '220.jpg', '221.jpg', '222.jpg', '223.jpg', '224.jpg', '225.jpg', '226.jpg', '227.jpg', '228.jpg', '229.jpg', '23.jpg', '230.jpg', '231.jpg', '232.jpg', '233.jpg', '234.jpg', '237.jpg', '239.jpg', '24.jpg', '240.jpg', '241.jpg', '242.jpg', '243.jpg', '244.jpg', '246.jpg', '247.jpg', '248.jpg', '249.jpg', '250.jpg', '251.jpg', '252.jpg', '253.jpg', '254.jpg', '255.jpg', '256.jpg', '258.jpg', '259.jpg', '26.jpg', '260.jpg', '261.jpg', '262.jpg', '263.jpg', '264.jpg', '265.jpg', '266.jpg', '267.jpg', '269.jpg', '27.jpg', '270.jpg', '271.jpg', '275.jpg', '276.jpg', '278.jpg', '28.jpg', '280.jpg', '281.jpg', '282.jpg', '283.jpg', '284.jpg', '285.jpg', '286.jpg', '287.jpg', '288.jpg', '289.jpg', '29.jpg', '290.jpg', '291.jpg', '292.jpg', '293.jpg', '294.jpg', '295.jpg', '297.jpg', '298.jpg', '299.jpg', '3.jpg', '30.jpg', '300.jpg', '301.jpg', '302.jpg', '303.jpg', '306.jpg', '307.jpg', '308.jpg', '309.jpg', '31.jpg', '310.jpg', '311.jpg', '312.jpg', '315.jpg', '316.jpg', '317.jpg', '318.jpg', '319.jpg', '32.jpg', '321.jpg', '322.jpg', '323.jpg', '324.jpg', '325.jpg', '326.jpg', '327.jpg', '328.jpg', '329.jpg', '33.jpg', '330.jpg', '331.jpg', '332.jpg', '334.jpg', '335.jpg', '336.jpg', '337.jpg', '338.jpg', '339.jpg', '34.jpg', '340.jpg', '341.jpg', '344.jpg', '345.jpg', '347.jpg', '348.jpg', '349.jpg', '350.jpg', '351.jpg', '352.jpg', '353.jpg', '354.jpg', '355.jpg', '356.jpg', '359.jpg', '36.jpg', '360.jpg', '361.jpg', '362.jpg', '363.jpg', '364.jpg', '365.jpg', '367.jpg', '368.jpg', '37.jpg', '370.jpg', '372.jpg', '373.jpg', '374.jpg', '375.jpg', '376.jpg', '378.jpg', '379.jpg', '383.jpg', '384.jpg', '385.jpg', '386.jpg', '387.jpg', '388.jpg', '389.jpg', '39.jpg', '390.jpg', '391.jpg', '392.jpg', '393.jpg', '394.jpg', '395.jpg', '397.jpg', '398.jpg', '399.jpg', '4.jpg', '40.jpg', '400.jpg', '401.jpg', '402.jpg', '403.jpg', '404.jpg', '405.jpg', '406.jpg', '407.jpg', '408.jpg', '409.jpg', '410.jpg', '411.jpg', '412.jpg', '413.jpg', '414.jpg', '415.jpg', '416.jpg', '417.jpg', '419.jpg', '42.jpg', '420.jpg', '421.jpg', '422.jpg', '423.jpg', '424.jpg', '425.jpg', '426.jpg', '427.jpg', '428.jpg', '43.jpg', '430.jpg', '431.jpg', '432.jpg', '434.jpg', '435.jpg', '436.jpg', '437.jpg', '438.jpg', '439.jpg', '44.jpg', '440.jpg', '441.jpg', '442.jpg', '443.jpg', '444.jpg', '445.jpg', '446.jpg', '447.jpg', '448.jpg', '449.jpg', '45.jpg', '450.jpg', '451.jpg', '452.jpg', '453.jpg', '454.jpg', '455.jpg', '456.jpg', '457.jpg', '458.jpg', '459.jpg', '46.jpg', '460.jpg', '461.jpg', '462.jpg', '463.jpg', '464.jpg', '465.jpg', '466.jpg', '467.jpg', '468.jpg', '469.jpg', '47.jpg', '475.jpg', '476.jpg', '477.jpg', '478.jpg', '48.jpg', '480.jpg', '49.jpg', '50.jpg', '51.jpg', '52.jpg', '53.jpg', '54.jpg', '55.jpg', '56.jpg', '57.jpg', '58.jpg', '59.jpg', '6.jpg', '61.jpg', '62.jpg', '63.jpg', '64.jpg', '65.jpg', '66.jpg', '67.jpg', '69.jpg', '7.jpg', '70.jpg', '73.jpg', '74.jpg', '76.jpg', '77.jpg', '79.jpg', '80.jpg', '81.jpg', '83.jpg', '84.jpg', '86.jpg', '87.jpg', '88.jpg', '89.jpg', '9.jpg', '90.jpg', '91.jpg', '92.jpg', '93.jpg', '94.jpg', '95.jpg', '96.jpg', '97.jpg', '98.jpg', '99.jpg', 'augmented_image_1.jpg', 'augmented_image_100.jpg', 'augmented_image_101.jpg', 'augmented_image_103.jpg', 'augmented_image_105.jpg', 'augmented_image_106.jpg', 'augmented_image_107.jpg', 'augmented_image_109.jpg', 'augmented_image_111.jpg', 'augmented_image_112.jpg', 'augmented_image_113.jpg', 'augmented_image_114.jpg', 'augmented_image_115.jpg', 'augmented_image_116.jpg', 'augmented_image_117.jpg', 'augmented_image_118.jpg', 'augmented_image_119.jpg', 'augmented_image_12.jpg', 'augmented_image_120.jpg', 'augmented_image_121.jpg', 'augmented_image_122.jpg', 'augmented_image_123.jpg', 'augmented_image_124.jpg', 'augmented_image_125.jpg', 'augmented_image_126.jpg', 'augmented_image_127.jpg', 'augmented_image_128.jpg', 'augmented_image_129.jpg', 'augmented_image_13.jpg', 'augmented_image_130.jpg', 'augmented_image_131.jpg', 'augmented_image_132.jpg', 'augmented_image_133.jpg', 'augmented_image_134.jpg', 'augmented_image_135.jpg', 'augmented_image_136.jpg', 'augmented_image_137.jpg', 'augmented_image_138.jpg', 'augmented_image_139.jpg', 'augmented_image_14.jpg', 'augmented_image_140.jpg', 'augmented_image_141.jpg', 'augmented_image_142.jpg', 'augmented_image_143.jpg', 'augmented_image_144.jpg', 'augmented_image_145.jpg', 'augmented_image_147.jpg', 'augmented_image_148.jpg', 'augmented_image_149.jpg', 'augmented_image_150.jpg', 'augmented_image_151.jpg', 'augmented_image_152.jpg', 'augmented_image_153.jpg', 'augmented_image_154.jpg', 'augmented_image_155.jpg', 'augmented_image_156.jpg', 'augmented_image_157.jpg', 'augmented_image_158.jpg', 'augmented_image_16.jpg', 'augmented_image_160.jpg', 'augmented_image_161.jpg', 'augmented_image_162.jpg', 'augmented_image_163.jpg', 'augmented_image_164.jpg', 'augmented_image_165.jpg', 'augmented_image_166.jpg', 'augmented_image_168.jpg', 'augmented_image_169.jpg', 'augmented_image_17.jpg', 'augmented_image_170.jpg', 'augmented_image_171.jpg', 'augmented_image_172.jpg', 'augmented_image_173.jpg', 'augmented_image_174.jpg', 'augmented_image_175.jpg', 'augmented_image_176.jpg', 'augmented_image_177.jpg', 'augmented_image_178.jpg', 'augmented_image_179.jpg', 'augmented_image_18.jpg', 'augmented_image_180.jpg', 'augmented_image_181.jpg', 'augmented_image_182.jpg', 'augmented_image_183.jpg', 'augmented_image_184.jpg', 'augmented_image_185.jpg', 'augmented_image_186.jpg', 'augmented_image_187.jpg', 'augmented_image_188.jpg', 'augmented_image_189.jpg', 'augmented_image_19.jpg', 'augmented_image_191.jpg', 'augmented_image_192.jpg', 'augmented_image_193.jpg', 'augmented_image_194.jpg', 'augmented_image_196.jpg', 'augmented_image_197.jpg', 'augmented_image_198.jpg', 'augmented_image_199.jpg', 'augmented_image_2.jpg', 'augmented_image_20.jpg', 'augmented_image_200.jpg', 'augmented_image_201.jpg', 'augmented_image_202.jpg', 'augmented_image_203.jpg', 'augmented_image_204.jpg', 'augmented_image_205.jpg', 'augmented_image_206.jpg', 'augmented_image_207.jpg', 'augmented_image_208.jpg', 'augmented_image_209.jpg', 'augmented_image_21.jpg', 'augmented_image_210.jpg', 'augmented_image_211.jpg', 'augmented_image_214.jpg', 'augmented_image_215.jpg', 'augmented_image_216.jpg', 'augmented_image_219.jpg', 'augmented_image_22.jpg', 'augmented_image_220.jpg', 'augmented_image_221.jpg', 'augmented_image_222.jpg', 'augmented_image_223.jpg', 'augmented_image_224.jpg', 'augmented_image_225.jpg', 'augmented_image_226.jpg', 'augmented_image_227.jpg', 'augmented_image_229.jpg', 'augmented_image_23.jpg', 'augmented_image_230.jpg', 'augmented_image_231.jpg', 'augmented_image_232.jpg', 'augmented_image_233.jpg', 'augmented_image_234.jpg', 'augmented_image_235.jpg', 'augmented_image_236.jpg', 'augmented_image_237.jpg', 'augmented_image_238.jpg', 'augmented_image_239.jpg', 'augmented_image_240.jpg', 'augmented_image_241.jpg', 'augmented_image_243.jpg', 'augmented_image_244.jpg', 'augmented_image_245.jpg', 'augmented_image_246.jpg', 'augmented_image_249.jpg', 'augmented_image_25.jpg', 'augmented_image_250.jpg', 'augmented_image_251.jpg', 'augmented_image_252.jpg', 'augmented_image_253.jpg', 'augmented_image_254.jpg', 'augmented_image_255.jpg', 'augmented_image_256.jpg', 'augmented_image_257.jpg', 'augmented_image_258.jpg', 'augmented_image_260.jpg', 'augmented_image_262.jpg', 'augmented_image_263.jpg', 'augmented_image_265.jpg', 'augmented_image_266.jpg', 'augmented_image_267.jpg', 'augmented_image_269.jpg', 'augmented_image_27.jpg', 'augmented_image_270.jpg', 'augmented_image_271.jpg', 'augmented_image_272.jpg', 'augmented_image_273.jpg', 'augmented_image_275.jpg', 'augmented_image_276.jpg', 'augmented_image_277.jpg', 'augmented_image_278.jpg', 'augmented_image_279.jpg', 'augmented_image_280.jpg', 'augmented_image_281.jpg', 'augmented_image_282.jpg', 'augmented_image_283.jpg', 'augmented_image_284.jpg', 'augmented_image_285.jpg', 'augmented_image_286.jpg', 'augmented_image_287.jpg', 'augmented_image_290.jpg', 'augmented_image_291.jpg', 'augmented_image_292.jpg', 'augmented_image_293.jpg', 'augmented_image_294.jpg', 'augmented_image_295.jpg', 'augmented_image_296.jpg', 'augmented_image_297.jpg', 'augmented_image_298.jpg', 'augmented_image_299.jpg', 'augmented_image_3.jpg', 'augmented_image_30.jpg', 'augmented_image_301.jpg', 'augmented_image_302.jpg', 'augmented_image_303.jpg', 'augmented_image_304.jpg', 'augmented_image_305.jpg', 'augmented_image_306.jpg', 'augmented_image_307.jpg', 'augmented_image_308.jpg', 'augmented_image_309.jpg', 'augmented_image_31.jpg', 'augmented_image_310.jpg', 'augmented_image_311.jpg', 'augmented_image_312.jpg', 'augmented_image_314.jpg', 'augmented_image_315.jpg', 'augmented_image_316.jpg', 'augmented_image_317.jpg', 'augmented_image_318.jpg', 'augmented_image_319.jpg', 'augmented_image_32.jpg', 'augmented_image_33.jpg', 'augmented_image_35.jpg', 'augmented_image_36.jpg', 'augmented_image_37.jpg', 'augmented_image_38.jpg', 'augmented_image_39.jpg', 'augmented_image_4.jpg', 'augmented_image_40.jpg', 'augmented_image_41.jpg', 'augmented_image_42.jpg', 'augmented_image_43.jpg', 'augmented_image_44.jpg', 'augmented_image_45.jpg', 'augmented_image_48.jpg', 'augmented_image_5.jpg', 'augmented_image_50.jpg', 'augmented_image_51.jpg', 'augmented_image_52.jpg', 'augmented_image_53.jpg', 'augmented_image_54.jpg', 'augmented_image_55.jpg', 'augmented_image_56.jpg', 'augmented_image_57.jpg', 'augmented_image_58.jpg', 'augmented_image_59.jpg', 'augmented_image_60.jpg', 'augmented_image_61.jpg', 'augmented_image_62.jpg', 'augmented_image_63.jpg', 'augmented_image_64.jpg', 'augmented_image_65.jpg', 'augmented_image_66.jpg', 'augmented_image_67.jpg', 'augmented_image_68.jpg', 'augmented_image_69.jpg', 'augmented_image_7.jpg', 'augmented_image_70.jpg', 'augmented_image_71.jpg', 'augmented_image_72.jpg', 'augmented_image_73.jpg', 'augmented_image_74.jpg', 'augmented_image_76.jpg', 'augmented_image_77.jpg', 'augmented_image_78.jpg', 'augmented_image_79.jpg', 'augmented_image_80.jpg', 'augmented_image_81.jpg', 'augmented_image_82.jpg', 'augmented_image_83.jpg', 'augmented_image_84.jpg', 'augmented_image_85.jpg', 'augmented_image_86.jpg', 'augmented_image_87.jpg', 'augmented_image_88.jpg', 'augmented_image_89.jpg', 'augmented_image_90.jpg', 'augmented_image_91.jpg', 'augmented_image_92.jpg', 'augmented_image_93.jpg', 'augmented_image_94.jpg', 'augmented_image_95.jpg', 'augmented_image_96.jpg', 'augmented_image_97.jpg', 'augmented_image_98.jpg', 'augmented_image_99.jpg']\n"
     ]
    }
   ],
   "source": [
    "img_size=200\n",
    "data=[]\n",
    "target=[]\n",
    "\n",
    "\n",
    "for category in categories:\n",
    "    folder_path=os.path.join(data_path,category)\n",
    "    img_names=os.listdir(folder_path)\n",
    " "
   ]
  },
  {
   "cell_type": "markdown",
   "metadata": {},
   "source": [
    "img_size=200- specifying the size of image to be resized \n",
    "data=[]- is used to store the resized images\n",
    "target=[]- is used to store categories label\n",
    "\n"
   ]
  },
  {
   "cell_type": "code",
   "execution_count": 7,
   "metadata": {},
   "outputs": [],
   "source": [
    "img_size=200\n",
    "data=[]\n",
    "target=[]\n",
    "\n",
    "\n",
    "for category in categories:\n",
    "    folder_path=os.path.join(data_path,category)\n",
    "    img_names=os.listdir(folder_path)\n",
    "        \n",
    "    for img_name in img_names:\n",
    "        img_path=os.path.join(folder_path,img_name)\n",
    "        img=cv2.imread(img_path)\n",
    "\n",
    "        try:\n",
    "            gray=cv2.cvtColor(img,cv2.COLOR_BGR2GRAY)           \n",
    "            #Coverting the image into gray scale\n",
    "            resized=cv2.resize(gray,(img_size,img_size))\n",
    "            #resizing the gray scale into 50x50, since we need a fixed common size for all the images in the dataset\n",
    "            data.append(resized)\n",
    "            target.append(label_dict[category])\n",
    "            #appending the image and the label(categorized) into the list (dataset)\n",
    "\n",
    "        except Exception as e:\n",
    "            print('Exception:',e)\n",
    "            #if any exception rasied, the exception will be printed here. And pass to the next image"
   ]
  },
  {
   "cell_type": "markdown",
   "metadata": {},
   "source": [
    "in the above section we are loading each image from  mask and unmask folder and also resizing them to 200,200  also converting them into gray scale . we are using try , exception in order to print if some exception in image occurs\n",
    "her cv2.imread is used to load a image, cv2.resize is used to resize the image \n"
   ]
  },
  {
   "cell_type": "code",
   "execution_count": 8,
   "metadata": {},
   "outputs": [
    {
     "name": "stderr",
     "output_type": "stream",
     "text": [
      "Using TensorFlow backend.\n"
     ]
    }
   ],
   "source": [
    "import numpy as np\n",
    "\n",
    "\n",
    "data=np.array(data)\n",
    "data=data/255\n",
    "data=np.reshape(data,(data.shape[0],img_size,img_size,1))\n",
    "target=np.array(target)\n",
    "\n",
    "from keras.utils import np_utils\n",
    "\n",
    "new_target=np_utils.to_categorical(target)\n",
    "\n",
    "from sklearn.utils import shuffle\n",
    "data,Label = shuffle(data,new_target, random_state=2)\n",
    "train_data = [data,Label]\n"
   ]
  },
  {
   "cell_type": "markdown",
   "metadata": {},
   "source": [
    "Now as we have resized image loaded image , so 4 step is to convert image into numpy array/ matrix representation (img, img,1) format\n",
    "to do this we use np.array and np.reshape"
   ]
  },
  {
   "cell_type": "markdown",
   "metadata": {},
   "source": [
    "now next step is to convert binary labels to categorical label represented by 2 colums and 1 row matrix where 1 colum will represent probability of test image to belong mask class\n",
    "2 colum represents probability of test image belonging to unmask category"
   ]
  },
  {
   "cell_type": "code",
   "execution_count": 9,
   "metadata": {},
   "outputs": [
    {
     "name": "stdout",
     "output_type": "stream",
     "text": [
      "WARNING:tensorflow:From C:\\Users\\Acer\\Anaconda3\\lib\\site-packages\\tensorflow_core\\python\\ops\\resource_variable_ops.py:1630: calling BaseResourceVariable.__init__ (from tensorflow.python.ops.resource_variable_ops) with constraint is deprecated and will be removed in a future version.\n",
      "Instructions for updating:\n",
      "If using Keras pass *_constraint arguments to layers.\n"
     ]
    }
   ],
   "source": [
    "model = tf.keras.models.Sequential([\n",
    "    tf.keras.layers.Flatten(input_shape=(200,200,1)),\n",
    "    tf.keras.layers.Dense(512, activation='relu'),\n",
    "    tf.keras.layers.Dense(512, activation='relu'),\n",
    "    tf.keras.layers.Dense(128, activation='relu'),\n",
    "    tf.keras.layers.Dense(50,activation='relu'),\n",
    "    tf.keras.layers.Dense(2, activation='softmax')\n",
    "])\n",
    "model.compile(loss='categorical_crossentropy',optimizer='adam',metrics=['accuracy'])"
   ]
  },
  {
   "cell_type": "markdown",
   "metadata": {},
   "source": [
    "in the above section we begin with are 2 objective to design and implement the neural network model here flatten layer basically converts image represented in 3d to 1d representation in order to pass as input to neural network\n",
    "here we are using relu activation fuction, and last layer uses softmax as we want probability of which class certain test iamge belong we are using 2 neuron at the end layer because we have 2 class to classify mask and unmask "
   ]
  },
  {
   "cell_type": "code",
   "execution_count": 11,
   "metadata": {},
   "outputs": [
    {
     "name": "stdout",
     "output_type": "stream",
     "text": [
      "[[0. 1.]\n",
      " [0. 1.]\n",
      " [0. 1.]\n",
      " ...\n",
      " [1. 0.]\n",
      " [1. 0.]\n",
      " [0. 1.]]\n"
     ]
    }
   ],
   "source": [
    "print(train_data[1])"
   ]
  },
  {
   "cell_type": "code",
   "execution_count": 12,
   "metadata": {},
   "outputs": [
    {
     "name": "stdout",
     "output_type": "stream",
     "text": [
      "Train on 1376 samples\n",
      "Epoch 1/80\n",
      "1376/1376 [==============================] - 24s 18ms/sample - loss: 3.8303 - acc: 0.5342\n",
      "Epoch 2/80\n",
      "1376/1376 [==============================] - 9s 7ms/sample - loss: 1.3224 - acc: 0.6235\n",
      "Epoch 3/80\n",
      "1376/1376 [==============================] - 9s 7ms/sample - loss: 0.5345 - acc: 0.7609 1s - loss: 0.5336 - acc\n",
      "Epoch 4/80\n",
      "1376/1376 [==============================] - 10s 7ms/sample - loss: 0.6218 - acc: 0.7129\n",
      "Epoch 5/80\n",
      "1376/1376 [==============================] - 10s 7ms/sample - loss: 0.4979 - acc: 0.7609\n",
      "Epoch 6/80\n",
      "1376/1376 [==============================] - 9s 7ms/sample - loss: 0.4316 - acc: 0.7958\n",
      "Epoch 7/80\n",
      "1376/1376 [==============================] - 9s 7ms/sample - loss: 0.4349 - acc: 0.7980\n",
      "Epoch 8/80\n",
      "1376/1376 [==============================] - 10s 7ms/sample - loss: 0.3676 - acc: 0.83144s - loss: 0.3154 - acc: 0. - ETA: 3s - loss: 0.345\n",
      "Epoch 9/80\n",
      "1376/1376 [==============================] - 9s 7ms/sample - loss: 0.3174 - acc: 0.8634\n",
      "Epoch 10/80\n",
      "1376/1376 [==============================] - 10s 7ms/sample - loss: 0.2784 - acc: 0.8881\n",
      "Epoch 11/80\n",
      "1376/1376 [==============================] - 10s 7ms/sample - loss: 0.2878 - acc: 0.8721\n",
      "Epoch 12/80\n",
      "1376/1376 [==============================] - 9s 7ms/sample - loss: 0.3214 - acc: 0.8670\n",
      "Epoch 13/80\n",
      "1376/1376 [==============================] - 10s 7ms/sample - loss: 0.2916 - acc: 0.8721\n",
      "Epoch 14/80\n",
      "1376/1376 [==============================] - 10s 7ms/sample - loss: 0.2465 - acc: 0.8968\n",
      "Epoch 15/80\n",
      "1376/1376 [==============================] - 10s 8ms/sample - loss: 0.2562 - acc: 0.8874\n",
      "Epoch 16/80\n",
      "1376/1376 [==============================] - 10s 7ms/sample - loss: 0.2093 - acc: 0.9157\n",
      "Epoch 17/80\n",
      "1376/1376 [==============================] - 10s 7ms/sample - loss: 0.2243 - acc: 0.9099\n",
      "Epoch 18/80\n",
      "1376/1376 [==============================] - 9s 7ms/sample - loss: 0.1841 - acc: 0.9288\n",
      "Epoch 19/80\n",
      "1376/1376 [==============================] - 9s 7ms/sample - loss: 0.2545 - acc: 0.8859\n",
      "Epoch 20/80\n",
      "1376/1376 [==============================] - 12s 9ms/sample - loss: 0.1547 - acc: 0.9346\n",
      "Epoch 21/80\n",
      "1376/1376 [==============================] - 11s 8ms/sample - loss: 0.1598 - acc: 0.9346\n",
      "Epoch 22/80\n",
      "1376/1376 [==============================] - 13s 9ms/sample - loss: 0.2074 - acc: 0.9128\n",
      "Epoch 23/80\n",
      "1376/1376 [==============================] - 12s 8ms/sample - loss: 0.1894 - acc: 0.9193\n",
      "Epoch 24/80\n",
      "1376/1376 [==============================] - 12s 9ms/sample - loss: 0.1583 - acc: 0.9288\n",
      "Epoch 25/80\n",
      "1376/1376 [==============================] - 12s 9ms/sample - loss: 0.1628 - acc: 0.9339\n",
      "Epoch 26/80\n",
      "1376/1376 [==============================] - 13s 9ms/sample - loss: 0.1901 - acc: 0.9186\n",
      "Epoch 27/80\n",
      "1376/1376 [==============================] - 13s 9ms/sample - loss: 0.1964 - acc: 0.9230\n",
      "Epoch 28/80\n",
      "1376/1376 [==============================] - 12s 9ms/sample - loss: 0.1422 - acc: 0.9433\n",
      "Epoch 29/80\n",
      "1376/1376 [==============================] - 13s 10ms/sample - loss: 0.1282 - acc: 0.9455\n",
      "Epoch 30/80\n",
      "1376/1376 [==============================] - 12s 9ms/sample - loss: 0.1436 - acc: 0.9440\n",
      "Epoch 31/80\n",
      "1376/1376 [==============================] - 12s 9ms/sample - loss: 0.1060 - acc: 0.9600\n",
      "Epoch 32/80\n",
      "1376/1376 [==============================] - 13s 9ms/sample - loss: 0.0925 - acc: 0.9637\n",
      "Epoch 33/80\n",
      "1376/1376 [==============================] - 13s 10ms/sample - loss: 0.1040 - acc: 0.9608\n",
      "Epoch 34/80\n",
      "1376/1376 [==============================] - 12s 9ms/sample - loss: 0.0784 - acc: 0.9688\n",
      "Epoch 35/80\n",
      "1376/1376 [==============================] - 15s 11ms/sample - loss: 0.0712 - acc: 0.9717\n",
      "Epoch 36/80\n",
      "1376/1376 [==============================] - 11s 8ms/sample - loss: 0.0952 - acc: 0.9651\n",
      "Epoch 37/80\n",
      "1376/1376 [==============================] - 11s 8ms/sample - loss: 0.1063 - acc: 0.9557\n",
      "Epoch 38/80\n",
      "1376/1376 [==============================] - 13s 10ms/sample - loss: 0.1603 - acc: 0.9404s - los\n",
      "Epoch 39/80\n",
      "1376/1376 [==============================] - 12s 9ms/sample - loss: 0.1128 - acc: 0.9549\n",
      "Epoch 40/80\n",
      "1376/1376 [==============================] - 13s 9ms/sample - loss: 0.0875 - acc: 0.9600\n",
      "Epoch 41/80\n",
      "1376/1376 [==============================] - 12s 8ms/sample - loss: 0.0720 - acc: 0.9695\n",
      "Epoch 42/80\n",
      "1376/1376 [==============================] - 12s 9ms/sample - loss: 0.1473 - acc: 0.9484\n",
      "Epoch 43/80\n",
      "1376/1376 [==============================] - 10s 8ms/sample - loss: 0.0744 - acc: 0.9695\n",
      "Epoch 44/80\n",
      "1376/1376 [==============================] - 14s 10ms/sample - loss: 0.0815 - acc: 0.9637\n",
      "Epoch 45/80\n",
      "1376/1376 [==============================] - 13s 10ms/sample - loss: 0.0987 - acc: 0.9673s - loss: 0.1071 -\n",
      "Epoch 46/80\n",
      "1376/1376 [==============================] - 11s 8ms/sample - loss: 0.0820 - acc: 0.9688\n",
      "Epoch 47/80\n",
      "1376/1376 [==============================] - 11s 8ms/sample - loss: 0.2568 - acc: 0.9099\n",
      "Epoch 48/80\n",
      "1376/1376 [==============================] - 12s 9ms/sample - loss: 0.0957 - acc: 0.9629\n",
      "Epoch 49/80\n",
      "1376/1376 [==============================] - 11s 8ms/sample - loss: 0.1013 - acc: 0.9564\n",
      "Epoch 50/80\n",
      "1376/1376 [==============================] - 16s 12ms/sample - loss: 0.0874 - acc: 0.9695\n",
      "Epoch 51/80\n",
      "1376/1376 [==============================] - 13s 10ms/sample - loss: 0.0709 - acc: 0.9724\n",
      "Epoch 52/80\n",
      "1376/1376 [==============================] - 11s 8ms/sample - loss: 0.0851 - acc: 0.9608\n",
      "Epoch 53/80\n",
      "1376/1376 [==============================] - 9s 7ms/sample - loss: 0.1605 - acc: 0.9448\n",
      "Epoch 54/80\n",
      "1376/1376 [==============================] - 12s 8ms/sample - loss: 0.1857 - acc: 0.9273\n",
      "Epoch 55/80\n",
      "1376/1376 [==============================] - 10s 7ms/sample - loss: 0.1447 - acc: 0.9433\n",
      "Epoch 56/80\n",
      "1376/1376 [==============================] - 12s 9ms/sample - loss: 0.0963 - acc: 0.9586\n",
      "Epoch 57/80\n",
      "1376/1376 [==============================] - 10s 8ms/sample - loss: 0.0565 - acc: 0.9797\n",
      "Epoch 58/80\n",
      "1376/1376 [==============================] - 15s 11ms/sample - loss: 0.0467 - acc: 0.9797\n",
      "Epoch 59/80\n",
      "1376/1376 [==============================] - 14s 10ms/sample - loss: 0.1179 - acc: 0.9615\n",
      "Epoch 60/80\n",
      "1376/1376 [==============================] - 11s 8ms/sample - loss: 0.0955 - acc: 0.9608\n",
      "Epoch 61/80\n",
      "1376/1376 [==============================] - 14s 10ms/sample - loss: 0.0389 - acc: 0.9862\n",
      "Epoch 62/80\n",
      "1376/1376 [==============================] - 10s 8ms/sample - loss: 0.0599 - acc: 0.9760\n",
      "Epoch 63/80\n",
      "1376/1376 [==============================] - 17s 12ms/sample - loss: 0.0648 - acc: 0.9775\n",
      "Epoch 64/80\n",
      "1376/1376 [==============================] - 15s 11ms/sample - loss: 0.0445 - acc: 0.9811\n",
      "Epoch 65/80\n",
      "1376/1376 [==============================] - 12s 9ms/sample - loss: 0.0522 - acc: 0.9797\n",
      "Epoch 66/80\n",
      "1376/1376 [==============================] - 16s 11ms/sample - loss: 0.0484 - acc: 0.9811\n",
      "Epoch 67/80\n",
      "1376/1376 [==============================] - 18s 13ms/sample - loss: 0.0516 - acc: 0.9811\n",
      "Epoch 68/80\n",
      "1376/1376 [==============================] - 16s 11ms/sample - loss: 0.0273 - acc: 0.9891\n",
      "Epoch 69/80\n",
      "1376/1376 [==============================] - 17s 12ms/sample - loss: 0.0282 - acc: 0.9927\n",
      "Epoch 70/80\n",
      "1376/1376 [==============================] - 20s 14ms/sample - loss: 0.2256 - acc: 0.9266\n",
      "Epoch 71/80\n",
      "1376/1376 [==============================] - 15s 11ms/sample - loss: 0.0618 - acc: 0.9782\n",
      "Epoch 72/80\n",
      "1376/1376 [==============================] - 21s 15ms/sample - loss: 0.0449 - acc: 0.9833\n",
      "Epoch 73/80\n",
      "1376/1376 [==============================] - 19s 14ms/sample - loss: 0.1179 - acc: 0.9462\n",
      "Epoch 74/80\n",
      "1376/1376 [==============================] - 22s 16ms/sample - loss: 0.0689 - acc: 0.9688\n",
      "Epoch 75/80\n",
      "1376/1376 [==============================] - 22s 16ms/sample - loss: 0.0454 - acc: 0.9876\n",
      "Epoch 76/80\n",
      "1376/1376 [==============================] - 15s 11ms/sample - loss: 0.0306 - acc: 0.9876\n",
      "Epoch 77/80\n",
      "1376/1376 [==============================] - 19s 14ms/sample - loss: 0.0323 - acc: 0.9891\n",
      "Epoch 78/80\n",
      "1376/1376 [==============================] - 20s 15ms/sample - loss: 0.0371 - acc: 0.9855\n",
      "Epoch 79/80\n",
      "1376/1376 [==============================] - 18s 13ms/sample - loss: 0.0505 - acc: 0.9804\n",
      "Epoch 80/80\n",
      "1376/1376 [==============================] - 20s 15ms/sample - loss: 0.0650 - acc: 0.9775\n"
     ]
    }
   ],
   "source": [
    "history=model.fit(train_data[0],train_data[1],epochs=80)\n"
   ]
  },
  {
   "cell_type": "markdown",
   "metadata": {},
   "source": [
    "model.fit is used to train our model here train_data[0] represents image data and train_data[1] is labels . Epoch can be anything from 0 to whatever u want u have to try and find out perfect epochs"
   ]
  },
  {
   "cell_type": "code",
   "execution_count": 13,
   "metadata": {},
   "outputs": [
    {
     "name": "stdout",
     "output_type": "stream",
     "text": [
      "{'Mask': 0, 'No_mask': 1}\n",
      "['Mask', 'No_mask']\n",
      "[0, 1]\n"
     ]
    }
   ],
   "source": [
    "import cv2,os\n",
    "\n",
    "data_path=r'C:\\Users\\Acer\\Desktop\\ml coding workshop\\Mask_Datasets\\train'\n",
    "categories=os.listdir(data_path)\n",
    "labels=[i for i in range(len(categories))]\n",
    "\n",
    "label_dict=dict(zip(categories,labels)) #empty dictionary\n",
    "\n",
    "print(label_dict)\n",
    "print(categories)\n",
    "print(labels)"
   ]
  },
  {
   "cell_type": "code",
   "execution_count": 14,
   "metadata": {},
   "outputs": [
    {
     "name": "stdout",
     "output_type": "stream",
     "text": [
      "Exception: OpenCV(4.2.0) C:\\projects\\opencv-python\\opencv\\modules\\imgproc\\src\\color.cpp:182: error: (-215:Assertion failed) !_src.empty() in function 'cv::cvtColor'\n",
      "\n"
     ]
    }
   ],
   "source": [
    "img_size=200\n",
    "data1=[]\n",
    "target1=[]\n",
    "\n",
    "\n",
    "for category in categories:\n",
    "    folder_path=os.path.join(data_path,category)\n",
    "    img_names=os.listdir(folder_path)\n",
    "        \n",
    "    for img_name in img_names:\n",
    "        img_path=os.path.join(folder_path,img_name)\n",
    "        img=cv2.imread(img_path)\n",
    "\n",
    "        try:\n",
    "            gray=cv2.cvtColor(img,cv2.COLOR_BGR2GRAY)           \n",
    "            #Coverting the image into gray scale\n",
    "            resized=cv2.resize(gray,(img_size,img_size))\n",
    "            #resizing the gray scale into 50x50, since we need a fixed common size for all the images in the dataset\n",
    "            data1.append(resized)\n",
    "            target1.append(label_dict[category])\n",
    "            #appending the image and the label(categorized) into the list (dataset)\n",
    "\n",
    "        except Exception as e:\n",
    "            print('Exception:',e)\n",
    "            #if any exception rasied, the exception will be printed here. And pass to the next image"
   ]
  },
  {
   "cell_type": "code",
   "execution_count": 16,
   "metadata": {},
   "outputs": [],
   "source": [
    "data1=np.array(data1)/255.0\n",
    "data1=np.reshape(data1,(data1.shape[0],img_size,img_size,1))\n",
    "target1=np.array(target1)\n",
    "\n",
    "from keras.utils import np_utils\n",
    "\n",
    "new_target1=np_utils.to_categorical(target1)"
   ]
  },
  {
   "cell_type": "markdown",
   "metadata": {},
   "source": [
    "in previous section we completed model traing now we have to run this model to test image so first we will load ,resize , conver to gray scale and convert the test images from image representation to numpy representaton as them in first module ( data processing for traing data)  "
   ]
  },
  {
   "cell_type": "code",
   "execution_count": 18,
   "metadata": {},
   "outputs": [
    {
     "name": "stdout",
     "output_type": "stream",
     "text": [
      "749/749 [==============================] - 2s 3ms/sample - loss: 0.8507 - acc: 0.5327\n"
     ]
    },
    {
     "data": {
      "text/plain": [
       "[0.8507195618028475, 0.53271025]"
      ]
     },
     "execution_count": 18,
     "metadata": {},
     "output_type": "execute_result"
    }
   ],
   "source": [
    "model.evaluate(data1,new_target1)"
   ]
  },
  {
   "cell_type": "markdown",
   "metadata": {},
   "source": [
    "For testing model we use model.evaluate where we supply test data as input "
   ]
  },
  {
   "cell_type": "code",
   "execution_count": 19,
   "metadata": {},
   "outputs": [
    {
     "name": "stdout",
     "output_type": "stream",
     "text": [
      "['0-with-mask.jpg', '0.jpg', '1-with-mask.jpg', '1.jpg', '14-with-mask.jpg', '14.jpg', '15730.jpg', '17.jpg', '18.jpg', '2-with-mask.jpg', '2.jpg', '3-with-mask.jpg', '3.jpg', '4.jpg', '7-with-mask.jpg', 'WIN_20200517_22_34_47_Pro.jpg', 'WIN_20200520_17_15_08_Pro.jpg']\n"
     ]
    }
   ],
   "source": [
    "from PIL import Image\n",
    "\n",
    "path3=r\"C:\\Users\\Acer\\Desktop\\ml coding workshop\\testing\"\n",
    "path4=r\"C:\\Users\\Acer\\Desktop\\ml coding workshop\\testing1\"\n",
    "list1 = os.listdir(path3)\n",
    "print(list1)\n",
    "\n",
    "for file in list1:\n",
    "    im = Image.open(path3 + '\\\\' + file)  \n",
    "    img = im.resize((200,200))\n",
    "    gray = img.convert('L')\n",
    "                #need to do some more processing here          \n",
    "    gray.save(path4 +'\\\\' +  file, \"JPEG\")\n"
   ]
  },
  {
   "cell_type": "markdown",
   "metadata": {},
   "source": [
    "in the above section we are using pil as are image processing library before this we have used cv2 i have discuss the merit and demerits of both during the live session \n",
    "so in the above section i am loading image ffrom a folder whose path is specified by path 3 here path 4 save the gray scale resized image \n",
    "so by use model.predict we will run the model for each image in saved folder and see what is prediction matrix in code below prediction matrix is called by classes"
   ]
  },
  {
   "cell_type": "code",
   "execution_count": 20,
   "metadata": {},
   "outputs": [
    {
     "name": "stdout",
     "output_type": "stream",
     "text": [
      "[1. 0.]\n",
      "[0. 1.]\n",
      "[1. 0.]\n",
      "[0. 1.]\n",
      "[1. 0.]\n",
      "[0. 1.]\n",
      "[1. 0.]\n",
      "[0. 1.]\n",
      "[0. 1.]\n",
      "[1. 0.]\n",
      "[0. 1.]\n",
      "[1. 0.]\n",
      "[0. 1.]\n",
      "[0. 1.]\n",
      "[1. 0.]\n",
      "[0. 1.]\n",
      "[1. 0.]\n"
     ]
    },
    {
     "data": {
      "image/png": "[encoded data removed]",
      "text/plain": [
       "<Figure size 432x288 with 1 Axes>"
      ]
     },
     "metadata": {
      "needs_background": "light"
     },
     "output_type": "display_data"
    }
   ],
   "source": [
    "import matplotlib.pyplot as plt\n",
    "iml = os.listdir(path4)\n",
    "for im in iml:\n",
    "    im1 = np.array(Image.open(path4 + '\\\\'+ im)) \n",
    "    img=im1.reshape(200,200)\n",
    "    plt.imshow(img)\n",
    "    plt.imshow(img,cmap='gray')\n",
    "    X_train1 = im1.reshape(1,200, 200,1)\n",
    "    X_train1 / 255\n",
    "    classes=model.predict(X_train1)\n",
    "    print(classes[0])"
   ]
  },
  {
   "cell_type": "code",
   "execution_count": 24,
   "metadata": {},
   "outputs": [
    {
     "data": {
      "text/plain": [
       "array([[[[0.01960784],\n",
       "         [0.01960784],\n",
       "         [0.01960784],\n",
       "         ...,\n",
       "         [0.0627451 ],\n",
       "         [0.05490196],\n",
       "         [0.04705882]],\n",
       "\n",
       "        [[0.04705882],\n",
       "         [0.04705882],\n",
       "         [0.04313725],\n",
       "         ...,\n",
       "         [0.0745098 ],\n",
       "         [0.0745098 ],\n",
       "         [0.0745098 ]],\n",
       "\n",
       "        [[0.03921569],\n",
       "         [0.03921569],\n",
       "         [0.03921569],\n",
       "         ...,\n",
       "         [0.07058824],\n",
       "         [0.0745098 ],\n",
       "         [0.07843137]],\n",
       "\n",
       "        ...,\n",
       "\n",
       "        [[0.2627451 ],\n",
       "         [0.24313725],\n",
       "         [0.24705882],\n",
       "         ...,\n",
       "         [0.        ],\n",
       "         [0.        ],\n",
       "         [0.        ]],\n",
       "\n",
       "        [[0.25490196],\n",
       "         [0.23137255],\n",
       "         [0.23137255],\n",
       "         ...,\n",
       "         [0.        ],\n",
       "         [0.        ],\n",
       "         [0.        ]],\n",
       "\n",
       "        [[0.24705882],\n",
       "         [0.21960784],\n",
       "         [0.21960784],\n",
       "         ...,\n",
       "         [0.        ],\n",
       "         [0.        ],\n",
       "         [0.        ]]]])"
      ]
     },
     "execution_count": 24,
     "metadata": {},
     "output_type": "execute_result"
    },
    {
     "data": {
      "image/png": "[encoded data removed]",
      "text/plain": [
       "<Figure size 432x288 with 1 Axes>"
      ]
     },
     "metadata": {
      "needs_background": "light"
     },
     "output_type": "display_data"
    }
   ],
   "source": [
    "    im1 = np.array(Image.open(path4 + '\\\\'+ iml[1])) \n",
    "    img=im1.reshape(200,200)\n",
    "    plt.imshow(img)\n",
    "    plt.imshow(img,cmap='gray')\n",
    "    X_train1 = im1.reshape(1,200, 200,1)\n",
    "    X_train1 / 255"
   ]
  },
  {
   "cell_type": "code",
   "execution_count": 25,
   "metadata": {},
   "outputs": [
    {
     "name": "stdout",
     "output_type": "stream",
     "text": [
      "[0. 1.]\n"
     ]
    }
   ],
   "source": [
    "classes=model.predict(X_train1)\n",
    "print(classes[0])\n"
   ]
  },
  {
   "cell_type": "code",
   "execution_count": null,
   "metadata": {},
   "outputs": [],
   "source": []
  }
 ],
 "metadata": {
  "kernelspec": {
   "display_name": "Python 3",
   "language": "python",
   "name": "python3"
  },
  "language_info": {
   "codemirror_mode": {
    "name": "ipython",
    "version": 3
   },
   "file_extension": ".py",
   "mimetype": "text/x-python",
   "name": "python",
   "nbconvert_exporter": "python",
   "pygments_lexer": "ipython3",
   "version": "3.7.4"
  }
 },
 "nbformat": 4,
 "nbformat_minor": 2
}
